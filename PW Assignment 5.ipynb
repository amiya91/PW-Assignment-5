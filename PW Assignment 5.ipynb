{
 "cells": [
  {
   "cell_type": "code",
   "execution_count": 29,
   "id": "aead7b65-2f1a-4d75-8861-c4c90edc9425",
   "metadata": {},
   "outputs": [],
   "source": [
    "###Q1. Create a vehicle class with an init method having instance variables as name_of_vehicle, max_speed and average_of_vehicle.\n",
    "\n",
    "\n",
    "class vehicle:\n",
    "    def __init__(self, name_of_vehicle, max_speed, average_of_vehicle):\n",
    "        self.name = name_of_vehicle\n",
    "        self.speed = max_speed\n",
    "        self.avg = average_of_vehicle\n",
    "    def vehicle_class(self):\n",
    "        return self.name, self.speed, self.avg"
   ]
  },
  {
   "cell_type": "code",
   "execution_count": 20,
   "id": "843aa7e2-cbb2-45ec-8a91-7bf57ea89ff7",
   "metadata": {},
   "outputs": [],
   "source": [
    "car_showroom = vehicle('audi',555,'35kmpl')"
   ]
  },
  {
   "cell_type": "code",
   "execution_count": 21,
   "id": "af0a00f0-b23e-4a73-b23b-fc2d8342091a",
   "metadata": {},
   "outputs": [
    {
     "data": {
      "text/plain": [
       "('audi', 555, '35kmpl')"
      ]
     },
     "execution_count": 21,
     "metadata": {},
     "output_type": "execute_result"
    }
   ],
   "source": [
    "car_showroom.vehicle_class()"
   ]
  },
  {
   "cell_type": "code",
   "execution_count": 17,
   "id": "8bd70433-aaa1-4916-8b23-a241dbfd83e0",
   "metadata": {},
   "outputs": [
    {
     "data": {
      "text/plain": [
       "'audi'"
      ]
     },
     "execution_count": 17,
     "metadata": {},
     "output_type": "execute_result"
    }
   ],
   "source": [
    "car_showroom.name"
   ]
  },
  {
   "cell_type": "code",
   "execution_count": 18,
   "id": "1d079b9a-ee5a-44e3-93a1-e42119e9530b",
   "metadata": {},
   "outputs": [
    {
     "data": {
      "text/plain": [
       "555"
      ]
     },
     "execution_count": 18,
     "metadata": {},
     "output_type": "execute_result"
    }
   ],
   "source": [
    "car_showroom.speed"
   ]
  },
  {
   "cell_type": "code",
   "execution_count": 24,
   "id": "6611fc9f-5a74-4b8d-9430-acd2b2409fd9",
   "metadata": {},
   "outputs": [
    {
     "data": {
      "text/plain": [
       "'35kmpl'"
      ]
     },
     "execution_count": 24,
     "metadata": {},
     "output_type": "execute_result"
    }
   ],
   "source": [
    "car_showroom.avg"
   ]
  },
  {
   "cell_type": "code",
   "execution_count": 30,
   "id": "fd0e104b-9e65-4bc3-9e0d-d5ca7265ee25",
   "metadata": {},
   "outputs": [],
   "source": [
    "###Q2. Create a child class car from the vehicle class created in Que 1, \n",
    "###    which will inherit the vehicle class. Create a method named seating_capacity which takes capacity as an argument \n",
    "###    and returns the name of the vehicle and its seating capacity.\n",
    "\n",
    "\n",
    "class Vehicle:\n",
    "    def __init__(self, name_of_vehicle, max_speed, average_of_vehicle):\n",
    "        self.name = name_of_vehicle\n",
    "        self.speed = max_speed\n",
    "        self.avg = average_of_vehicle\n",
    "\n",
    "    def vehicle_class(self):\n",
    "        return self.name, self.speed, self.avg\n",
    "\n",
    "class Car(Vehicle):\n",
    "    def __init__(self, name_of_vehicle, max_speed, average_of_vehicle):\n",
    "        super().__init__(name_of_vehicle, max_speed, average_of_vehicle)\n",
    "\n",
    "    def seating_capacity(self, capacity):\n",
    "        return f\"{self.name} - Seating Capacity: {capacity}\""
   ]
  },
  {
   "cell_type": "code",
   "execution_count": 31,
   "id": "9fefcbf4-804a-4e54-b7d0-fd5ff6726479",
   "metadata": {},
   "outputs": [
    {
     "name": "stdout",
     "output_type": "stream",
     "text": [
      "('Toyota Camry', 200, 30)\n",
      "Toyota Camry - Seating Capacity: 5\n"
     ]
    }
   ],
   "source": [
    "car1 = Car(\"Toyota Camry\", 200, 30)\n",
    "print(car1.vehicle_class())\n",
    "print(car1.seating_capacity(5))"
   ]
  },
  {
   "cell_type": "code",
   "execution_count": 32,
   "id": "d4b45c21-8c27-496d-afde-7fe3f974a708",
   "metadata": {},
   "outputs": [
    {
     "name": "stdout",
     "output_type": "stream",
     "text": [
      "Mammal speaks: Roar!\n",
      "Bat is flying.\n"
     ]
    }
   ],
   "source": [
    "###Q3. What is multiple inheritance? Write a python code to demonstrate multiple inheritance.\n",
    "\n",
    "class Animal:\n",
    "    def __init__(self, name):\n",
    "        self.name = name\n",
    "\n",
    "    def speak(self):\n",
    "        pass\n",
    "\n",
    "class Mammal(Animal):\n",
    "    def speak(self):\n",
    "        return \"Mammal speaks: Roar!\"\n",
    "\n",
    "class Bird(Animal):\n",
    "    def speak(self):\n",
    "        return \"Bird speaks: Chirp!\"\n",
    "\n",
    "class Bat(Mammal, Bird):\n",
    "    def fly(self):\n",
    "        return \"Bat is flying.\"\n",
    "\n",
    "my_bat = Bat(\"Fruit Bat\")\n",
    "\n",
    "print(my_bat.speak())\n",
    "print(my_bat.fly())"
   ]
  },
  {
   "cell_type": "code",
   "execution_count": 33,
   "id": "91988bdf-46ec-4ed4-8e96-25725ff4c494",
   "metadata": {},
   "outputs": [],
   "source": [
    "### Q4. What are getter and setter in python? Create a class and create a getter and a setter method in this class.\n",
    "\n",
    "### In Python, getters and setters are methods used to control access to class attributes. \n",
    "### They provide a way to retrieve (get) and modify (set) the values of private or protected attributes of a class \n",
    "### while maintaining encapsulation and data integrity.\n",
    "\n",
    "### Getters are methods that provide access to the value of an attribute, allowing you to retrieve its current state. \n",
    "### Setters, on the other hand, enable you to modify or update the value of an attribute while enforcing certain conditions or validations."
   ]
  },
  {
   "cell_type": "code",
   "execution_count": 34,
   "id": "a7d82978-405f-47e6-ab92-1bd00e6ebbe1",
   "metadata": {},
   "outputs": [
    {
     "name": "stdout",
     "output_type": "stream",
     "text": [
      "John\n",
      "25\n",
      "Alice\n",
      "30\n"
     ]
    }
   ],
   "source": [
    "class Person:\n",
    "    def __init__(self, name, age):\n",
    "        self._name = name  # private attribute\n",
    "        self._age = age    # private attribute\n",
    "\n",
    "    def get_name(self):\n",
    "        return self._name\n",
    "\n",
    "    def set_name(self, new_name):\n",
    "        self._name = new_name\n",
    "\n",
    "    def get_age(self):\n",
    "        return self._age\n",
    "\n",
    "    def set_age(self, new_age):\n",
    "        if new_age > 0:\n",
    "            self._age = new_age\n",
    "        else:\n",
    "            print(\"Age must be a positive value.\")\n",
    "\n",
    "person = Person(\"John\", 25)\n",
    "\n",
    "print(person.get_name())\n",
    "print(person.get_age())\n",
    "\n",
    "person.set_name(\"Alice\")\n",
    "person.set_age(30)\n",
    "\n",
    "print(person.get_name())\n",
    "print(person.get_age())"
   ]
  },
  {
   "cell_type": "code",
   "execution_count": 35,
   "id": "2ec5e29f-01df-42f6-8c79-4517c026120d",
   "metadata": {},
   "outputs": [],
   "source": [
    "### Q5.What is method overriding in python? Write a python code to demonstrate method overriding.\n",
    "\n",
    "### Method overriding in Python is a feature of object-oriented programming where a subclass provides its own \n",
    "### implementation of a method that is already defined in its superclass. \n",
    "### It allows the subclass to modify or extend the behavior of the inherited method while maintaining the same method name."
   ]
  },
  {
   "cell_type": "code",
   "execution_count": 36,
   "id": "244121f5-9aee-4dae-b6b5-14c271290161",
   "metadata": {},
   "outputs": [
    {
     "name": "stdout",
     "output_type": "stream",
     "text": [
      "20\n"
     ]
    }
   ],
   "source": [
    "class Shape:\n",
    "    def area(self):\n",
    "        return 0\n",
    "\n",
    "class Rectangle(Shape):\n",
    "    def __init__(self, width, height):\n",
    "        self.width = width\n",
    "        self.height = height\n",
    "\n",
    "    def area(self):\n",
    "        return self.width * self.height\n",
    "    \n",
    "rectangle = Rectangle(4, 5)\n",
    "\n",
    "print(rectangle.area())"
   ]
  },
  {
   "cell_type": "code",
   "execution_count": null,
   "id": "4b9748ae-fdcb-4c2a-add8-35f6b13f3580",
   "metadata": {},
   "outputs": [],
   "source": []
  }
 ],
 "metadata": {
  "kernelspec": {
   "display_name": "Python 3 (ipykernel)",
   "language": "python",
   "name": "python3"
  },
  "language_info": {
   "codemirror_mode": {
    "name": "ipython",
    "version": 3
   },
   "file_extension": ".py",
   "mimetype": "text/x-python",
   "name": "python",
   "nbconvert_exporter": "python",
   "pygments_lexer": "ipython3",
   "version": "3.10.8"
  }
 },
 "nbformat": 4,
 "nbformat_minor": 5
}
